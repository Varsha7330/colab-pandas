{
  "nbformat": 4,
  "nbformat_minor": 0,
  "metadata": {
    "colab": {
      "provenance": [],
      "authorship_tag": "ABX9TyP1GV/meD8k+zfhNlkwYfSt",
      "include_colab_link": true
    },
    "kernelspec": {
      "name": "python3",
      "display_name": "Python 3"
    },
    "language_info": {
      "name": "python"
    }
  },
  "cells": [
    {
      "cell_type": "markdown",
      "metadata": {
        "id": "view-in-github",
        "colab_type": "text"
      },
      "source": [
        "<a href=\"https://colab.research.google.com/github/Varsha7330/colab-pandas/blob/main/Assignment2.ipynb\" target=\"_parent\"><img src=\"https://colab.research.google.com/assets/colab-badge.svg\" alt=\"Open In Colab\"/></a>"
      ]
    },
    {
      "cell_type": "markdown",
      "source": [
        "1. Create a Pandas DataFrame from the following dictionary:\n",
        "\n",
        "data = {\n",
        "\n",
        "'Name': ['Alice', 'Bob', 'Carol'],\n",
        "\n",
        "'Age': [24, 27, 22],\n",
        "\n",
        "'Salary': [50000, 55000, 48000]\n",
        "\n",
        "}\n",
        "\n",
        "• Add a new column called Bonus which is 10% of the salary."
      ],
      "metadata": {
        "id": "GULuUsrb8N_b"
      }
    },
    {
      "cell_type": "markdown",
      "source": [
        "# New Section"
      ],
      "metadata": {
        "id": "JQqNBa1GYmVl"
      }
    },
    {
      "cell_type": "code",
      "source": [
        "import pandas as pd\n",
        "data = {\n",
        "'Name': ['Alice', 'Bob', 'Carol'],\n",
        "'Age': [24, 27, 22],\n",
        "'Salary': [50000, 55000, 48000]\n",
        "}\n",
        "df=pd.DataFrame(data)\n",
        "df['Bonus']=df['Salary']*0.10\n",
        "print(df)"
      ],
      "metadata": {
        "colab": {
          "base_uri": "https://localhost:8080/"
        },
        "id": "t89B56_E8Yfg",
        "outputId": "04028a5e-8dbd-4b32-a401-9f9b03b576ac"
      },
      "execution_count": null,
      "outputs": [
        {
          "output_type": "stream",
          "name": "stdout",
          "text": [
            "    Name  Age  Salary   Bonus\n",
            "0  Alice   24   50000  5000.0\n",
            "1    Bob   27   55000  5500.0\n",
            "2  Carol   22   48000  4800.0\n"
          ]
        }
      ]
    },
    {
      "cell_type": "markdown",
      "source": [
        "2. Given the DataFrame created in the above question:\n",
        "\n",
        "• Display the first two rows.\n",
        "\n",
        "• Compute the mean salary."
      ],
      "metadata": {
        "id": "kCvCh8nV89lm"
      }
    },
    {
      "cell_type": "code",
      "source": [
        "print(df.head(2))\n",
        "mean_salary=df['Salary'].mean()\n",
        "print(\"Mean Salary: \",mean_salary)"
      ],
      "metadata": {
        "colab": {
          "base_uri": "https://localhost:8080/"
        },
        "id": "O3m4BiTH9CMW",
        "outputId": "55c11a85-a5df-47ae-aa48-1d4421eb303c"
      },
      "execution_count": null,
      "outputs": [
        {
          "output_type": "stream",
          "name": "stdout",
          "text": [
            "    Name  Age  Salary   Bonus\n",
            "0  Alice   24   50000  5000.0\n",
            "1    Bob   27   55000  5500.0\n",
            "Mean Salary:  51000.0\n"
          ]
        }
      ]
    },
    {
      "cell_type": "markdown",
      "source": [
        "3. Using the same DataFrame:\n",
        "\n",
        "• Extract all rows where the Age is greater than 25.                                    \n",
        "• Filter out rows where the Salary is less than 50000."
      ],
      "metadata": {
        "id": "f66FME3S9gU2"
      }
    },
    {
      "cell_type": "code",
      "source": [
        "age_filter=df[df['Age']>25]\n",
        "print(age_filter)\n",
        "salary_filter=df[df['Salary']>=50000]\n",
        "print(salary_filter)"
      ],
      "metadata": {
        "colab": {
          "base_uri": "https://localhost:8080/"
        },
        "id": "zeWUosl29nKt",
        "outputId": "3dd7eca1-2332-451d-ebf0-98b2803e509b"
      },
      "execution_count": null,
      "outputs": [
        {
          "output_type": "stream",
          "name": "stdout",
          "text": [
            "  Name  Age  Salary   Bonus\n",
            "1  Bob   27   55000  5500.0\n",
            "    Name  Age  Salary   Bonus\n",
            "0  Alice   24   50000  5000.0\n",
            "1    Bob   27   55000  5500.0\n"
          ]
        }
      ]
    },
    {
      "cell_type": "markdown",
      "source": [
        "4. Create the following DataFrame:  \n",
        "data = {                                                                         \n",
        "'A': [1, 2, None, 4],                                                                    \n",
        "'B': [None, 2, 3, None],                                                                 \n",
        "'C': [1, 2, 3, 4]                                                                       \n",
        "}                                                                                      \n",
        "df = pd.DataFrame(data)                                                                  \n",
        "• Fill missing values in column A with the mean of the column.                           \n",
        "• Drop rows where all values are None."
      ],
      "metadata": {
        "id": "M1BZIoS--Jov"
      }
    },
    {
      "cell_type": "code",
      "source": [
        "data = {\n",
        "'A': [1, 2, None, 4],\n",
        "'B': [None, 2, 3, None],\n",
        "'C': [1, 2, 3, 4]\n",
        "}\n",
        "df2 = pd.DataFrame(data)\n",
        "df2['A'].fillna(df2['A'].mean())\n",
        "df2=df2.dropna(how='all')\n",
        "print(df2)"
      ],
      "metadata": {
        "colab": {
          "base_uri": "https://localhost:8080/"
        },
        "id": "x_W00O47-tve",
        "outputId": "c824a976-5b2f-4612-e0dc-f70f78e9f91e"
      },
      "execution_count": null,
      "outputs": [
        {
          "output_type": "stream",
          "name": "stdout",
          "text": [
            "     A    B  C\n",
            "0  1.0  NaN  1\n",
            "1  2.0  2.0  2\n",
            "2  NaN  3.0  3\n",
            "3  4.0  NaN  4\n"
          ]
        }
      ]
    },
    {
      "cell_type": "markdown",
      "source": [
        "5. Create a DataFrame for employees:                                               \n",
        "data = {                                                                         \n",
        "'Department': ['HR', 'HR', 'IT', 'IT', 'Finance'],                                    \n",
        "'Employee': ['Alice', 'Bob', 'Carol', 'David', 'Eve'],                              \n",
        "'Salary': [50000, 45000, 60000, 65000, 70000]\n",
        "}                                                                                     \n",
        "• Group the data by Department and compute the total and mean salary for each\n",
        "department."
      ],
      "metadata": {
        "id": "CZvVzJMm_Wc2"
      }
    },
    {
      "cell_type": "code",
      "source": [
        "data = {\n",
        "'Department': ['HR', 'HR', 'IT', 'IT', 'Finance'],\n",
        "'Employee': ['Alice', 'Bob', 'Carol', 'David', 'Eve'],\n",
        "'Salary': [50000, 45000, 60000, 65000, 70000]\n",
        "}\n",
        "df3=pd.DataFrame(data)\n",
        "grouped_df=df3.groupby('Department')\n",
        "print(grouped_df['Salary'].mean())\n",
        "print(grouped_df['Salary'].sum())"
      ],
      "metadata": {
        "colab": {
          "base_uri": "https://localhost:8080/"
        },
        "id": "yMp8ZGPA_ipO",
        "outputId": "df698c73-ad80-4e1c-a7c9-d1f0f1a08c94"
      },
      "execution_count": null,
      "outputs": [
        {
          "output_type": "stream",
          "name": "stdout",
          "text": [
            "Department\n",
            "Finance    70000.0\n",
            "HR         47500.0\n",
            "IT         62500.0\n",
            "Name: Salary, dtype: float64\n",
            "Department\n",
            "Finance     70000\n",
            "HR          95000\n",
            "IT         125000\n",
            "Name: Salary, dtype: int64\n"
          ]
        }
      ]
    },
    {
      "cell_type": "markdown",
      "source": [
        "6. Given two DataFrames:                                                                \n",
        "df1 = pd.DataFrame({'ID': [1, 2, 3], 'Name': ['Alice', 'Bob', 'Carol']})         \n",
        "df2 = pd.DataFrame({'ID': [2, 3, 4], 'Age': [25, 30, 22]})                                                                            \n",
        "• Perform an inner join on the ID column."
      ],
      "metadata": {
        "id": "oYC3T2OP_14N"
      }
    },
    {
      "cell_type": "code",
      "source": [
        "df1 = pd.DataFrame({'ID': [1, 2, 3], 'Name': ['Alice', 'Bob', 'Carol']})\n",
        "df2 = pd.DataFrame({'ID': [2, 3, 4], 'Age': [25, 30, 22]})\n",
        "inner_join=pd.merge(df1,df2,on='ID',how='inner')\n",
        "print(inner_join)"
      ],
      "metadata": {
        "colab": {
          "base_uri": "https://localhost:8080/"
        },
        "id": "M1W6cHo2__hc",
        "outputId": "5432d5a9-c23d-481f-ba89-5092bffb96c0"
      },
      "execution_count": null,
      "outputs": [
        {
          "output_type": "stream",
          "name": "stdout",
          "text": [
            "   ID   Name  Age\n",
            "0   2    Bob   25\n",
            "1   3  Carol   30\n"
          ]
        }
      ]
    },
    {
      "cell_type": "markdown",
      "source": [
        "7. Given a small dataset, clean and display basic statistics using Pandas."
      ],
      "metadata": {
        "id": "kTU90Z9BAen1"
      }
    },
    {
      "cell_type": "code",
      "source": [
        "small_data = {\n",
        "    'A': [1, 2, None, 4],\n",
        "    'B': [None, 2, 3, None],\n",
        "    'C': [1, None, 3, 4]\n",
        "}\n",
        "\n",
        "df4 = pd.DataFrame(small_data)\n",
        "df4 = df4.dropna(how='all')\n",
        "df4 = df4.fillna(df4.mean())\n",
        "print(df4.describe())"
      ],
      "metadata": {
        "colab": {
          "base_uri": "https://localhost:8080/"
        },
        "id": "GwHfoMbsAlKS",
        "outputId": "e88007e7-b4f8-4ded-ca74-aa49821be502"
      },
      "execution_count": null,
      "outputs": [
        {
          "output_type": "stream",
          "name": "stdout",
          "text": [
            "              A         B         C\n",
            "count  4.000000  4.000000  4.000000\n",
            "mean   2.333333  2.500000  2.666667\n",
            "std    1.247219  0.408248  1.247219\n",
            "min    1.000000  2.000000  1.000000\n",
            "25%    1.750000  2.375000  2.250000\n",
            "50%    2.166667  2.500000  2.833333\n",
            "75%    2.750000  2.625000  3.250000\n",
            "max    4.000000  3.000000  4.000000\n"
          ]
        }
      ]
    },
    {
      "cell_type": "markdown",
      "source": [
        "8. small EDA task                                                                     \n",
        "• Load the Titanic dataset (titanic.csv) into a Pandas DataFrame.                 \n",
        "• Perform the following tasks:                                                    \n",
        "o Display the number of missing values in each column.                             \n",
        "o Find the average age of passengers.                                             \n",
        "o Create a bar plot to show the survival rate based on gender."
      ],
      "metadata": {
        "id": "MZlDBEmuBH5t"
      }
    },
    {
      "cell_type": "code",
      "source": [
        "import pandas as pd\n",
        "\n",
        "# Load the Titanic dataset\n",
        "titanic_df = pd.read_csv('/content/Titanic-Dataset.csv')\n",
        "# Display the number of missing values in each column\n",
        "missing_values = titanic_df.isnull().sum()\n",
        "print(missing_values)\n",
        "# Find the average age of passengers\n",
        "average_age = titanic_df['Age'].mean()\n",
        "print(f'The average age of passengers is {average_age:.2f} years.')\n",
        "import matplotlib.pyplot as plt\n",
        "\n",
        "# Calculate the survival rate based on gender\n",
        "survival_rate = titanic_df.groupby('Sex')['Survived'].mean()\n",
        "\n",
        "# Create a bar plot\n",
        "survival_rate.plot(kind='bar')\n",
        "plt.title('Survival Rate Based on Gender')\n",
        "plt.xlabel('Gender')\n",
        "plt.ylabel('Survival Rate')\n",
        "plt.show()\n"
      ],
      "metadata": {
        "colab": {
          "base_uri": "https://localhost:8080/",
          "height": 760
        },
        "id": "vMZ21AF2JOg9",
        "outputId": "e00b7652-5797-472b-b3f0-8b91610b7870"
      },
      "execution_count": 1,
      "outputs": [
        {
          "output_type": "stream",
          "name": "stdout",
          "text": [
            "PassengerId      0\n",
            "Survived         0\n",
            "Pclass           0\n",
            "Name             0\n",
            "Sex              0\n",
            "Age            177\n",
            "SibSp            0\n",
            "Parch            0\n",
            "Ticket           0\n",
            "Fare             0\n",
            "Cabin          687\n",
            "Embarked         2\n",
            "dtype: int64\n",
            "The average age of passengers is 29.70 years.\n"
          ]
        },
        {
          "output_type": "display_data",
          "data": {
            "text/plain": [
              "<Figure size 640x480 with 1 Axes>"
            ],
            "image/png": "[encoded data removed]"
          },
          "metadata": {}
        }
      ]
    },
    {
      "cell_type": "markdown",
      "source": [
        "9. Data Transformation                                                              \n",
        "• Load a dataset containing daily temperatures and dates. Perform the        following:                                                                       \n",
        "o Convert the date column into a DateTime object.                                \n",
        "o Create a new column that categorizes temperatures into High, Medium, or\n",
        "Low."
      ],
      "metadata": {
        "id": "8PwaGWz_DoVs"
      }
    },
    {
      "cell_type": "code",
      "source": [
        "data = {\n",
        "    'Date': ['2024-12-20', '2024-12-21', '2024-12-22'],\n",
        "    'Temperature': [32, 28, 22]\n",
        "}\n",
        "\n",
        "df5 = pd.DataFrame(data)\n",
        "df5['Date'] = pd.to_datetime(df5['Date'])\n",
        "def categorize_temp(temp):\n",
        "    if temp > 30:\n",
        "        return 'High'\n",
        "    elif temp > 20:\n",
        "        return 'Medium'\n",
        "    else:\n",
        "        return 'Low'\n",
        "\n",
        "df5['Category'] = df5['Temperature'].apply(categorize_temp)\n",
        "print(df5)"
      ],
      "metadata": {
        "colab": {
          "base_uri": "https://localhost:8080/"
        },
        "id": "DIyyRzmfD0vM",
        "outputId": "ab6c2ba8-ec07-4f61-c55e-c6cb8f598637"
      },
      "execution_count": null,
      "outputs": [
        {
          "output_type": "stream",
          "name": "stdout",
          "text": [
            "        Date  Temperature Category\n",
            "0 2024-12-20           32     High\n",
            "1 2024-12-21           28   Medium\n",
            "2 2024-12-22           22   Medium\n"
          ]
        }
      ]
    }
  ]
}